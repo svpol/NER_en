{
 "cells": [
  {
   "cell_type": "markdown",
   "id": "6c381faf",
   "metadata": {},
   "source": [
    "# NER: Extracting GPE entities from the article (En)"
   ]
  },
  {
   "cell_type": "code",
   "execution_count": 28,
   "id": "4dc5ec6e",
   "metadata": {},
   "outputs": [],
   "source": [
    "from bs4 import BeautifulSoup\n",
    "import requests\n",
    "import re\n",
    "\n",
    "import en_core_web_sm\n",
    "nlp = en_core_web_sm.load()"
   ]
  },
  {
   "cell_type": "markdown",
   "id": "325e3832",
   "metadata": {},
   "source": [
    "## Getting the article text"
   ]
  },
  {
   "cell_type": "code",
   "execution_count": 29,
   "id": "4d6a70a1",
   "metadata": {},
   "outputs": [],
   "source": [
    "def get_text(url):\n",
    "    res = requests.get(url)\n",
    "    html = res.text\n",
    "    soup = BeautifulSoup(html, 'html.parser')\n",
    "    for script in soup([\"script\", \"style\", 'aside']):\n",
    "        script.extract()\n",
    "    return \" \".join(re.split(r'[\\n\\t]+', soup.get_text()))"
   ]
  },
  {
   "cell_type": "code",
   "execution_count": 30,
   "id": "afb6b634",
   "metadata": {},
   "outputs": [],
   "source": [
    "article = get_text('https://www.nationalgeographic.com/travel/article/how-climbers-faced-down-the-death-zone-on-one-of-earths-tallest-mountains')"
   ]
  },
  {
   "cell_type": "code",
   "execution_count": 31,
   "id": "3b014d56",
   "metadata": {},
   "outputs": [
    {
     "data": {
      "text/plain": [
       "\" How climbers faced down the ‘death zone’ on one of Earth’s tallest mountains Skip to contentNewslettersSubscribeMenuAdventureHow climbers faced down the ‘death zone’ on one of Earth’s tallest mountainsLearn about one of history’s most audacious mountaineering expeditions, as seen in the documentary ‘14 Peaks.’ByNirmal PurjaPublished January 12, 2022• 20 min readShareTweetEmailBefore 2019, the record time for summiting all 14 of the planet’s 26,000 feet or higher “death zone” peaks was just shy of eight years.Nepali climber Nirmal “Nims” Purja did it in six months and six days.The mountaineer is honest about the financial, physical, and emotional struggles he faced on the expedition, which stretched from April to October 2019, in his new book Beyond Possible: One Man, 14 Peaks and the Mountaineering Achievement of a Lifetime.The mission to summit the 14 peaks, which he called “Project Possible 14/7,” was broken into three stages. Between April and May 2019, he climbed six mountains in Nepal, India, and China: Annapurna, Dhaulagiri, Kanchenjunga, Mount Everest, Lhotse, and Makalu. In July 2019, he completed another five peaks in the “death zone”—altitudes above 26,000 feet, where oxygen levels are insufficient to sustain human life—in Pakistan: Nanga Parbat, Gasherbrum I, Gasherbrum II (GI and GII), K2, and Broad Peak.The following excerpt from his book chronicles his journey on GI. After this ascent, he went on to summit the remaining mountains in his epic quest: Cho Oyu on the China-Nepal border, Manaslu in Nepal, and Xixabangma in China.\\xa0Beyond possible: A mountaineering marvelTime was against us; the mountain season was coming to a close.The journey from Nanga Parbat to Skardu, and then to the shared base camp of GI and GII, was slated to take eight days. The route wound through areas Taliban fighters were known to patrol, so it was important that everybody remained on high alert until we reached the Karakoram range. To cover our tracks further, we camped away from the trekking lodges on the road.We had no time to rest. We drove nonstop for 24 hours for the first part of the trip, with the entire team and all our gear jammed into a minivan. When a landslide on the road threatened to halt our progress, we unloaded our backpacks and equipment and packed them into another vehicle on the other side.(How a Nepali climber stormed the world of high-altitude mountaineering.)We’d hired mules and porters to carry most of our equipment the rest of the way. I asked to double the mules and porters in an attempt to get there in three days, but my request fell on deaf ears. The following morning, as we were about to depart from Askole—the starting point for most treks in the Karakoram region—the porter arrived with the same number of mules, adamant that reinforcements were pointless.On the first night, we waited for four or five hours for our porters to catch up with us as we camped. The same thing happened the following evening. And on the third, I became wound up.I snapped. “You know what? You guys are too happy to work in your comfort zones. We need to move faster.”I checked in with my team: Mingma, Geljen, Gesman, and the others. “If we can carry our climbing kit by ourselves, we’ll be so much quicker. Are you willing?”Everyone was in agreement. We left camp at 4 a.m. and arrived at the bottom of GI around 5 p.m., covering 34 miles in 13 hours, while carrying a lot more than 75 pounds a person. All of us were exhausted but unbroken.Despite the enormous effort it had taken to get there, I felt ready for this stretch of the mission, confident we could tackle the tests ahead, but respectful of what I was about to take on.(We climbed Everest to solve its greatest mystery.)Settled in at base camp, I noticed that a storm seemed to be brewing. But it was of little worry; my team had the assets to overcome any looming dangers. After all, extreme altitude climbing was a mind game as much as a physical endeavor. “This is yours, Nims. This is where you come alive,” I told myself.Of course, overconfidence was a dangerous position to take; it can lead to corner cutting and laziness. Trepidation is also dangerous; it causes you to overthink when you need to be in a flow state. So my default setting before any climb was pitched somewhere in the middle: neither fearful nor overly relaxed. But my aim was always to be aggressive: Whenever I attack a mountain, I attack a hundred percent.I knew that nature didn’t care about reputation, age, gender, or background. All I could do was place myself into the right frame of mind; then I’d be able to tackle the challenges above. I needed to make myself a solid force on every mountain, capable of smashing through any obstacle. Then it was go time.The climbThe American writer Mark Twain once wrote that if a person’s job was to eat a frog, then it was best to take care of business first thing in the morning. But if the work involved eating two frogs, it was best to eat the bigger one first. In other words: Get the hardest job out of the way.As we waited in base camp, a battle plan was set. GII was very much the smaller frog, and we intended to take it at a relatively leisurely pace, resting in some of the lower camps as we climbed. But GI was the bigger, uglier test, so I wanted to take it first with Mingma and Geljen—in one hit, we hoped.The work was grueling. Nobody had dropped off any supplementary oxygen for us in advance, so the team needed to load up with oxygen cylinders, a full mountain kit, equipment, and supplies. But after we set off, following two days of rest, it didn’t take long to figure out we were still exhausted by our trek from Nanga Parbat. We wandered through a crevasse-scarred gully on the mountain’s lower slopes and our energy levels depleted quickly. Thankfully, fixed lines would lead us all the way up, and I was fairly hopeful of finishing GI in pretty good time.I’d previously topped Makalu, the world’s fifth highest mountain, in 18 hours after climbing Everest and Lhotse and barely sleeping for four or five days. We had scaled Kanchenjunga, the world’s third highest, in similar circumstances. I reckoned we had it in us to do the northwest face of Gasherbrum I, more than 26,500 feet, in one push. By my estimation, we’d reach the summit around midday.One of the challenges was the Japanese Couloir, which bordered a steep, 70-degree ridge. Once we’d climbed above it, our job was to pull ourselves to the top, the final stages of which involved a traverse across another sharp incline. The work was damn tough, and it took us much longer than expected. By the time we’d negotiated the Japanese Couloir and reached Camp 3, the sun had fallen. We could not press on. We needed a new plan.(China and Nepal say Everest is two feet taller.)To forge ahead in the dark was potentially suicidal. We weren’t entirely sure of where the summit was, there wasn’t a route marker in sight, and we could easily become disorientated figuring the precise route up, even with our GPS technology. Tragedy wasn’t hard to envision: One of us could become confused and fall into a crevasse or off a cliff edge.The more pressing issue was our lack of equipment. Because the plan had been to push toward the summit in one go—and since we’d failed at that—we now felt exposed. To complete the expedition in time, we’d need to stay at Camp 3, where we had at least an old, broken tent to crawl into. Once in shelter, we could rest up for a few hours until the time came for our summit push in the morning.But because the team had traveled light, apart from our oxygen cylinders, we had no food between us. For warmth, we had only our summit suits, plus one sleeping bag.Our only respite from the biting cold was to huddle together, our body heat saving us from the plummeting temperatures. At 3 a.m., too cold to sleep, we roused ourselves for the summit push. It took 90 minutes for everyone to get the kit together. We were exhausted.The climb to the top was a desperate slog. We moved up the slope without ropes, perpetually confused as to which way to turn in the dim, early morning light. Was the peak to the left or the right? I couldn’t tell, but I needed to know for certain we were heading in the right direction. There were too many horror stories of climbers scaling one summit, only to be told after making it back to base camp that they’d reached a false peak.Exhaustion was threatening to overwhelm me with every step, and I didn’t want to suffer as a result of a navigational error. With a walkie-talkie, I called to base camp and was patched through to a climber who’d made it to the top a couple of weeks previously.Following his directions, we found our way to the summit, taking in the sight of GII and Broad Peak in the distance. With the three of us trudging, exhausted, along a razor-thin edge of rock that marked our turnaround point, the reality of GI dawning on us. This was a challenging mountain, and despite my promise to be neutral when considering the tests ahead, I’d underestimated it a little.Confidence and doubtTop-of-the-world perspectives, where nature could be both beautiful and violent, have power. I remember standing on the summit of Everest for my first time with my friend Pasang Sherpa. I’d just overcome a dangerous brush with High Altitude Pulmonary Edema (HAPE), an illness with a mortality rate up to 50 percent. My fingers and toes seemed close to snapping in the metallic cold. But the first glimmer of sunlight through the peaks changed everything. Everest’s energy shifted from dark to light, death to life, and I knew I’d make it home.Seeing the Himalaya stretching out before me, the top of GI had a similar effect. Our struggles felt distant, from another lifetime—especially now, with the mountaintops glowing, clouds around them burning away. A new day was kicking off; everything was going to be alright.Then gravity pulled me out of my comfort zone.The fear struck me as soon as we began our descent. When I looked down, the ground seemed to rush up at me as the memory of my tumble on Nanga Parbat flashed in my mind. Without a safety line, I suddenly felt vulnerable and exposed. I watched nervously as Geljen and Mingma turned around and began digging their ice axes into the slope, stepping down backward, as if just another routine descent.But was it? I wasn’t so sure. My legs were wobbling, the adrenaline was racing, and for the first time in the mission I feared for my mortality. Self-doubt hit me like shrapnel.It would be quite easy to slip here. Would I die?We weren’t tethered together. Why didn’t I bring rope?These emotions shocked me, but I was vulnerable because I’d forgotten one of my most important rules: I’d underestimated the mountain. The realization was like a slap across the mouth. I turned around and drove my crampons into the ice, moving down slowly, cautiously, step by step, my heart racing.Once we’d made it to flatter ground, I felt more at ease and walked confidently to Camp 3, praying the loss of self-belief had only been temporary.Then I remembered the sporting greats I loved: The mark of a true champion was the way they reacted to a fall or defeat. Muhammad Ali was knocked down many times before fighting to victory. Usain Bolt had false-started or been beaten in smaller championships before taking gold at the Olympics. My tumble a week earlier could be seen as an equally minor setback; it was unsettling, but with time and work I could put it behind me, especially if I summoned the Gurkha mentality. First, though, I needed to dust myself off and get back in the game.The rescueAs we moved down to Camp 2, a message from another expedition pinged my satellite phone. “There’s a climber called Mathias stuck at Camp 2. Can you call out to him and bring him down?”The time was around 3 p.m. and seeing as we were within touching distance, there was no reason not to help. After locating Mathias, the three of us waited patiently as he gathered his things. Five minutes passed. Then 10. Mathias announced he would be ready in “just a few,” and so Geljen pressed down to the next camp, assuming we’d catch up fairly quickly. After a quarter of an hour had passed, we were on the move again. I was freezing cold and exhausted, and the delay had cost us dearly.(How rescuers save climbers on the world’s tallest mountains.)From nowhere, a heavy weather system swept in, and within minutes we were swaddled in cloud that dumped a blanket of snow on us. Our visibility was reduced to nothing, and in the confusion I heard a cry. It was Mingma! He’d been sucked into an unseen crevasse. I crawled across to find him, fearing the worst, careful not to plunge into a separate hidden maw.But when I peered into the hole, Mingma was there, peering back at me. By sheer luck, his bag had snagged on the edge, fixing his body in place. With some careful wriggling, Mingma was able to free his arms, grabbing on to the ice as we lifted him away from trouble. That was now two near-death scrapes he’d survived in as many mountains.Between my fall on Nanga Parbat and now Mingma’s accident on Gasherbrum I, it was as if the mountain gods were trying to swallow us whole. And if Mingma could slip into an unseen crevasse, would Geljen be OK? Without a clear view through the clouds to Camp 1, he might step away from the line and disappear into the mountain.I grabbed my radio and tried to call him, but there was no answer. Then I heard a faint beep and a crackle of static in my rucksack. Geljen had left his comms behind!I took a moment to assess our situation: There was no way up; the route was shrouded in mist. Climbing down wasn’t much better, as the snow was too heavy to see through.At first, the three of us tried digging a hole into the snow with our ice axes. If we could create a break from the growing wind and whiteout conditions, we might stay warm enough by cuddling up close. But as we hacked and chipped away, there wasn’t enough room to protect us all. I knew if we hung around much longer, we might die. The time had come to take an even riskier step.“We’re going to have to get back up to Camp 2,” I said.I looked at Mathias. “Is there enough room for us to get into your tent up there?”He nodded. We had a shot at survival at least, but it was a risky one; Mingma’s experience had shown how easy it was to fall into a crevasse. Cautiously, we climbed back up to Camp 2. Every now and then, I’d radio down to the expeditions below, hopeful that Geljen might have made it to Camp 1. But nobody had laid eyes on him.I feared the worst. Only after we’d made it above the cloud, beyond the freezing squalls, and squeezed into a tiny two-man tent, did I feel safe. Then my radio beeped and coughed with static.“Nimsdai! I’m home!” It was Geljen.He was in one piece and had borrowed a radio from another climber. For a moment, we had room to breathe.This passage is adapted from a chapter in the National Geographic book Beyond Possible: One Man, 14 Peaks and the Mountaineering Achievement of a Lifetime. A version of the book with condensed chapters, illustrations, and lessons for young and aspiring climbers can be found in: Beyond Possible: Young Readers Edition (for kids ages 10 and up).Nims Purja was born in Nepal and, like his father and three older brothers, served with the British Armed Forces as a Nepalese Gurkha. He went on to become a soldier in the Special Boat Service (SBS), an elite special forces unit of the Royal Navy. Nims was only seven years into his climbing career when he began Project Possible 14/7. He now lives in Hampshire, England, with his wife.ShareTweetEmailRead This NextThis striking image won our ‘Pictures of the Year’ photo contestPhotographyThis striking image won our ‘Pictures of the Year’ photo contestSee all 10 of the top photographs and find out how perseverance—and a ton of patience—got Karthik Subramaniam the grand-prize-winning shot.California is having an epic 'supershroom' seasonEnvironmentCalifornia is having an epic 'supershroom' seasonThis mushroom season is one for the record books. Here’s why—and how to start shroom-hunting.You think dating is hard? Try being one of these animals.AnimalsYou think dating is hard? Try being one of these animals.From spraying mates with urine to changing one's sex, these are the most intriguing courtships in the animal kingdom.Mountain hares are built for snow. That may be a problem.MagazineMountain hares are built for snow. That may be a problem.Native to the Scottish Highlands, these color-changing mammals thrive in tough winter conditions. But now there’s less snow.Go FurtherAnimalsThai poaching kingpin is on the run after prison sentenceAnimalsWildlife WatchThai poaching kingpin is on the run after prison sentenceYou think dating is hard? Try being one of these animals.AnimalsYou think dating is hard? Try being one of these animals.Etsy and eBay are selling dead bats—and scientists are disturbedAnimalsWildlife WatchEtsy and eBay are selling dead bats—and scientists are disturbedWhy is wombat poop cube-shaped?AnimalsWhy is wombat poop cube-shaped?This bird’s protectors are its former huntersAnimalsThis bird’s protectors are its former huntersThe world’s newest whale is already endangeredAnimalsThe world’s newest whale is already endangeredEnvironmentThe scientific case against gas stovesEnvironmentThe scientific case against gas stovesWhat is wind chill, and how does it affect your body?EnvironmentWhat is wind chill, and how does it affect your body?Bats and agaves make tequila possible—and they’re both at riskMagazineDecoderBats and agaves make tequila possible—and they’re both at riskCalifornia is having an epic 'supershroom' seasonEnvironmentCalifornia is having an epic 'supershroom' seasonThese sacred trees face new threats in a changing worldEnvironmentThese sacred trees face new threats in a changing worldThe everyday people making their homes eco-friendlyPaid ContentThe everyday people making their homes eco-friendlyHistory & CultureHow a pharaoh with 100 children bungled his successionHistory MagazineHow a pharaoh with 100 children bungled his successionThe origins of African American studies, explainedHistory & CultureRace in AmericaThe origins of African American studies, explainedHow were the first 'voice mails' sent? In envelopesHistory MagazineHow were the first 'voice mails' sent? In envelopesDecoded secret letters reveal plot against Queen Elizabeth IHistory MagazineDecoded secret letters reveal plot against Queen Elizabeth IInside the decadence of Casanova’s VeniceHistory MagazineInside the decadence of Casanova’s VeniceThis Black artist’s quilts inspired generations of U.S. artisansHistory MagazineRace in AmericaThis Black artist’s quilts inspired generations of U.S. artisansScienceWhat is a liquid biopsy?ScienceWhat is a liquid biopsy?Why daylight saving time exists—and is so unpopularScienceWhy daylight saving time exists—and is so unpopularWhat to know about freezing your eggsScienceWhat to know about freezing your eggsHow did Saturn get its rings?MagazineThe Big IdeaHow did Saturn get its rings?Not all fat is created equal. This ‘good fat’ could keep us youthful.ScienceMind, Body, WonderNot all fat is created equal. This ‘good fat’ could keep us youthful.COVID can trigger tinnitus. Could the vaccines do the same?ScienceCoronavirus CoverageCOVID can trigger tinnitus. Could the vaccines do the same?TravelA journey of the senses through Abu Dhabi, Video StoryPaid ContentA journey of the senses through Abu DhabiAn adventure across Abu Dhabi’s diverse landscapes, Video StoryPaid ContentAn adventure across Abu Dhabi’s diverse landscapes48 Hours in SingaporePaid Content48 Hours in SingaporeWhy the Washington Monument was once a national embarrassmentTravelWhy the Washington Monument was once a national embarrassmentThis grand trail will one day connect the U.S. coast to coastTravelThis grand trail will one day connect the U.S. coast to coastSingapore’s best-kept secrets are its culture-rich neighborhoodsPaid ContentSingapore’s best-kept secrets are its culture-rich neighborhoodsSubscriber Exclusive ContentpreviousMagazineWhy are people so dang obsessed with Mars?ReadMagazineHow viruses shape our worldReadAnimalsThe era of greyhound racing in the U.S. is coming to an endReadMagazineSee how people have imagined life on Mars through historyReadMagazineSee how NASA’s new Mars rover will explore the red planetExploreMagazineWhy are people so dang obsessed with Mars?ReadMagazineHow viruses shape our worldReadAnimalsThe era of greyhound racing in the U.S. is coming to an endReadMagazineSee how people have imagined life on Mars through historyReadMagazineSee how NASA’s new Mars rover will explore the red planetExploreMagazineWhy are people so dang obsessed with Mars?ReadMagazineHow viruses shape our worldReadAnimalsThe era of greyhound racing in the U.S. is coming to an endReadMagazineSee how people have imagined life on Mars through historyReadMagazineSee how NASA’s new Mars rover will explore the red planetExplorenext               See MoreLegalTerms of UsePrivacy PolicyYour California Privacy RightsChildren's Online Privacy PolicyInterest-Based AdsAbout Nielsen MeasurementDo Not Sell My InfoOur SitesNat Geo HomeAttend a Live EventBook a TripBuy MapsInspire Your KidsShop Nat GeoVisit the D.C. MuseumWatch TVLearn About Our ImpactSupport our MissionNat Geo PartnersMastheadPress RoomAdvertise With UsJoin UsSubscribeCustomer ServiceRenew SubscriptionManage Your SubscriptionWork at NatGeoSignup for Our NewslettersContribute to Protect the PlanetPitch a StoryFollow usNational Geographic FacebookNational Geographic TwitterNational Geographic InstagramUnited States (Change)Copyright © 1996-2015 National Geographic SocietyCopyright © 2015-2023 National Geographic Partners, LLC. All rights reserved \""
      ]
     },
     "execution_count": 31,
     "metadata": {},
     "output_type": "execute_result"
    }
   ],
   "source": [
    "article"
   ]
  },
  {
   "cell_type": "markdown",
   "id": "429fe6be",
   "metadata": {},
   "source": [
    "## Extracting GPEs"
   ]
  },
  {
   "cell_type": "code",
   "execution_count": 32,
   "id": "fb47fe47",
   "metadata": {},
   "outputs": [],
   "source": [
    "doc = nlp(article)"
   ]
  },
  {
   "cell_type": "code",
   "execution_count": 33,
   "id": "796fba24",
   "metadata": {},
   "outputs": [
    {
     "data": {
      "text/plain": [
       "{('India', 'GPE'), ('Pakistan', 'GPE'), ('California', 'GPE'), ('Kanchenjunga', 'GPE'), ('K2', 'GPE'), ('England', 'GPE'), ('China', 'GPE'), ('Karakoram', 'GPE'), ('Nepali', 'GPE'), ('U.S.', 'GPE'), ('Dhaulagiri', 'GPE'), ('Geljen', 'GPE'), ('Nanga', 'GPE'), ('Abu Dhabi', 'GPE'), ('Hampshire', 'GPE'), ('Nepal', 'GPE'), ('Makalu', 'GPE'), ('Abu Dhabi’s', 'GPE'), ('us', 'GPE'), ('Manaslu', 'GPE'), ('Annapurna', 'GPE')}"
      ]
     },
     "execution_count": 33,
     "metadata": {},
     "output_type": "execute_result"
    }
   ],
   "source": [
    "# The set of unique GPE-labelled entities:\n",
    "set([(X.text, X.label_) for X in doc.ents if X.label_ == 'GPE'])"
   ]
  },
  {
   "cell_type": "code",
   "execution_count": 35,
   "id": "a33cdb44",
   "metadata": {},
   "outputs": [],
   "source": [
    "# Also we can see all entitties with all lables:\n",
    "# [(X.text, X.label_) for X in doc.ents]"
   ]
  }
 ],
 "metadata": {
  "kernelspec": {
   "display_name": "Python 3 (ipykernel)",
   "language": "python",
   "name": "python3"
  },
  "language_info": {
   "codemirror_mode": {
    "name": "ipython",
    "version": 3
   },
   "file_extension": ".py",
   "mimetype": "text/x-python",
   "name": "python",
   "nbconvert_exporter": "python",
   "pygments_lexer": "ipython3",
   "version": "3.9.13"
  }
 },
 "nbformat": 4,
 "nbformat_minor": 5
}
